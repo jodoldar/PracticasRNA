{
  "nbformat": 4,
  "nbformat_minor": 0,
  "metadata": {
    "colab": {
      "name": "MNIST.ipynb",
      "version": "0.3.2",
      "provenance": [],
      "collapsed_sections": [],
      "include_colab_link": true
    },
    "kernelspec": {
      "name": "python3",
      "display_name": "Python 3"
    },
    "accelerator": "GPU"
  },
  "cells": [
    {
      "cell_type": "markdown",
      "metadata": {
        "id": "view-in-github",
        "colab_type": "text"
      },
      "source": [
        "<a href=\"https://colab.research.google.com/github/jodoldar/PracticasRNA/blob/master/MNIST.ipynb\" target=\"_parent\"><img src=\"https://colab.research.google.com/assets/colab-badge.svg\" alt=\"Open In Colab\"/></a>"
      ]
    },
    {
      "metadata": {
        "id": "jtMidB2OCacC",
        "colab_type": "code",
        "outputId": "ed08c538-d445-4981-e375-0964c862356d",
        "colab": {
          "base_uri": "https://localhost:8080/",
          "height": 170
        }
      },
      "cell_type": "code",
      "source": [
        "!pip3 install keras\n",
        "!pip3 install graphviz"
      ],
      "execution_count": 0,
      "outputs": [
        {
          "output_type": "stream",
          "text": [
            "Requirement already satisfied: keras in /usr/local/lib/python3.6/dist-packages (2.2.4)\n",
            "Requirement already satisfied: keras-applications>=1.0.6 in /usr/local/lib/python3.6/dist-packages (from keras) (1.0.6)\n",
            "Requirement already satisfied: h5py in /usr/local/lib/python3.6/dist-packages (from keras) (2.8.0)\n",
            "Requirement already satisfied: pyyaml in /usr/local/lib/python3.6/dist-packages (from keras) (3.13)\n",
            "Requirement already satisfied: six>=1.9.0 in /usr/local/lib/python3.6/dist-packages (from keras) (1.11.0)\n",
            "Requirement already satisfied: scipy>=0.14 in /usr/local/lib/python3.6/dist-packages (from keras) (1.1.0)\n",
            "Requirement already satisfied: numpy>=1.9.1 in /usr/local/lib/python3.6/dist-packages (from keras) (1.14.6)\n",
            "Requirement already satisfied: keras-preprocessing>=1.0.5 in /usr/local/lib/python3.6/dist-packages (from keras) (1.0.5)\n",
            "Requirement already satisfied: graphviz in /usr/local/lib/python3.6/dist-packages (0.10.1)\n"
          ],
          "name": "stdout"
        }
      ]
    },
    {
      "metadata": {
        "id": "Np-YUomOCgBi",
        "colab_type": "code",
        "colab": {}
      },
      "cell_type": "code",
      "source": [
        "from __future__ import print_function\n",
        "\n",
        "import keras\n",
        "from keras.datasets import mnist\n",
        "from keras.models import Sequential\n",
        "\n",
        "from keras.layers import Dense, Activation, Dropout, Flatten, Conv2D, MaxPool2D\n",
        "from keras.layers import GaussianNoise as GN\n",
        "from keras.layers import Reshape\n",
        "from keras.layers.normalization import BatchNormalization as BN\n",
        "\n",
        "from keras.optimizers import SGD\n",
        "import keras.backend as K\n",
        "\n",
        "from keras.preprocessing.image import ImageDataGenerator\n",
        "from keras.callbacks import LearningRateScheduler as LRS\n",
        "from keras.callbacks import ReduceLROnPlateau\n",
        "\n",
        "from keras.utils.vis_utils import plot_model"
      ],
      "execution_count": 0,
      "outputs": []
    },
    {
      "metadata": {
        "id": "qqsJlJF9DcFK",
        "colab_type": "code",
        "colab": {}
      },
      "cell_type": "code",
      "source": [
        "batch_size = 128\n",
        "epochs = 75\n",
        "num_classes=10"
      ],
      "execution_count": 0,
      "outputs": []
    },
    {
      "metadata": {
        "id": "0kHoN2TSDOBa",
        "colab_type": "code",
        "colab": {}
      },
      "cell_type": "code",
      "source": [
        "# the data, shuffled and split between train and test sets\n",
        "(x_train, y_train), (x_test, y_test) = mnist.load_data()"
      ],
      "execution_count": 0,
      "outputs": []
    },
    {
      "metadata": {
        "id": "srOxRPLZDSKC",
        "colab_type": "code",
        "outputId": "223b8e85-6fc3-463f-f5dd-8a20109ebbee",
        "colab": {
          "base_uri": "https://localhost:8080/",
          "height": 51
        }
      },
      "cell_type": "code",
      "source": [
        "# Mandatory to use ImageDataGenerator, it expects 4D Tensors\n",
        "x_train = x_train.reshape(60000,28,28,1)\n",
        "x_test = x_test.reshape(10000,28,28,1)\n",
        "x_train = x_train.astype('float32')\n",
        "x_test = x_test.astype('float32')\n",
        "\n",
        "# Normalize [0..255]-->[0..1]\n",
        "x_train /= 255\n",
        "x_test /= 255\n",
        "\n",
        "print(x_train.shape[0], 'train samples')\n",
        "print(x_test.shape[0], 'test samples')\n",
        "\n",
        "# convert class vectors to binary class matrices\n",
        "y_train = keras.utils.to_categorical(y_train, num_classes)\n",
        "y_test = keras.utils.to_categorical(y_test, num_classes)"
      ],
      "execution_count": 0,
      "outputs": [
        {
          "output_type": "stream",
          "text": [
            "60000 train samples\n",
            "10000 test samples\n"
          ],
          "name": "stdout"
        }
      ]
    },
    {
      "metadata": {
        "id": "tRHXlqFxDWsS",
        "colab_type": "code",
        "colab": {}
      },
      "cell_type": "code",
      "source": [
        "sgd=SGD(lr=0.5, decay=0.0, momentum=0.0)"
      ],
      "execution_count": 0,
      "outputs": []
    },
    {
      "metadata": {
        "id": "3E79CtwqDlJZ",
        "colab_type": "code",
        "colab": {}
      },
      "cell_type": "code",
      "source": [
        "def scheduler(epoch):\n",
        "  if epoch < 5:\n",
        "    return .5\n",
        "  elif epoch < 25:\n",
        "    return .1\n",
        "  elif epoch < 50:\n",
        "    return 0.01\n",
        "  else:\n",
        "    return 0.001\n",
        "\n",
        "set_lr = LRS(scheduler)"
      ],
      "execution_count": 0,
      "outputs": []
    },
    {
      "metadata": {
        "id": "J6NDxPEEDnJC",
        "colab_type": "code",
        "outputId": "03c2d12b-4195-4251-9827-bfe49b90b0b1",
        "colab": {
          "base_uri": "https://localhost:8080/",
          "height": 578
        }
      },
      "cell_type": "code",
      "source": [
        "## Model, note the reshape\n",
        "model = Sequential()\n",
        "\n",
        "model.add(Reshape(target_shape=(784,), input_shape=(28,28,1)))\n",
        "model.add(Dense(1024, activation='relu'))\n",
        "model.add(BN())\n",
        "model.add(GN(0.25))\n",
        "model.add(Activation('relu'))\n",
        "\n",
        "model.add(GN(0.25))\n",
        "model.add(Dense(2048, activation='relu'))\n",
        "\n",
        "\n",
        "model.add(Dropout(0.25))\n",
        "model.add(GN(0.15))\n",
        "model.add(Dense(64, activation='relu'))\n",
        "\n",
        "model.add(BN())\n",
        "model.add(Dropout(0.25))\n",
        "model.add(Dense(num_classes, activation='softmax'))\n",
        "\n",
        "model.summary()\n",
        "##\n",
        "plot_model(model, to_file='model_plot.png', show_shapes=True, show_layer_names=True)"
      ],
      "execution_count": 0,
      "outputs": [
        {
          "output_type": "stream",
          "text": [
            "_________________________________________________________________\n",
            "Layer (type)                 Output Shape              Param #   \n",
            "=================================================================\n",
            "reshape_2 (Reshape)          (None, 784)               0         \n",
            "_________________________________________________________________\n",
            "dense_5 (Dense)              (None, 1024)              803840    \n",
            "_________________________________________________________________\n",
            "batch_normalization_3 (Batch (None, 1024)              4096      \n",
            "_________________________________________________________________\n",
            "gaussian_noise_4 (GaussianNo (None, 1024)              0         \n",
            "_________________________________________________________________\n",
            "activation_2 (Activation)    (None, 1024)              0         \n",
            "_________________________________________________________________\n",
            "gaussian_noise_5 (GaussianNo (None, 1024)              0         \n",
            "_________________________________________________________________\n",
            "dense_6 (Dense)              (None, 2048)              2099200   \n",
            "_________________________________________________________________\n",
            "dropout_3 (Dropout)          (None, 2048)              0         \n",
            "_________________________________________________________________\n",
            "gaussian_noise_6 (GaussianNo (None, 2048)              0         \n",
            "_________________________________________________________________\n",
            "dense_7 (Dense)              (None, 64)                131136    \n",
            "_________________________________________________________________\n",
            "batch_normalization_4 (Batch (None, 64)                256       \n",
            "_________________________________________________________________\n",
            "dropout_4 (Dropout)          (None, 64)                0         \n",
            "_________________________________________________________________\n",
            "dense_8 (Dense)              (None, 10)                650       \n",
            "=================================================================\n",
            "Total params: 3,039,178\n",
            "Trainable params: 3,037,002\n",
            "Non-trainable params: 2,176\n",
            "_________________________________________________________________\n"
          ],
          "name": "stdout"
        }
      ]
    },
    {
      "metadata": {
        "id": "zkyKetmBDwmi",
        "colab_type": "code",
        "colab": {}
      },
      "cell_type": "code",
      "source": [
        "learning_rate_reduction = ReduceLROnPlateau(monitor='val_acc', patience=3,\n",
        "                                           verbose=1, factor=0.5,\n",
        "                                           min_lr=0.0001)"
      ],
      "execution_count": 0,
      "outputs": []
    },
    {
      "metadata": {
        "id": "IhVz7dL7NnPg",
        "colab_type": "code",
        "colab": {}
      },
      "cell_type": "code",
      "source": [
        "## Data Augmentation with an ImageGenerator\n",
        "datagen = ImageDataGenerator(\n",
        "    rotation_range=1,\n",
        "    zoom_range=0.1,\n",
        "    width_shift_range=0.1,\n",
        "    height_shift_range=0.1,\n",
        "    horizontal_flip=False,\n",
        "    vertical_flip=False)"
      ],
      "execution_count": 0,
      "outputs": []
    },
    {
      "metadata": {
        "id": "4g0oinjND4Dy",
        "colab_type": "code",
        "colab": {}
      },
      "cell_type": "code",
      "source": [
        "model.compile(loss=keras.losses.categorical_crossentropy,\n",
        "              optimizer=sgd,\n",
        "              metrics=['accuracy'])"
      ],
      "execution_count": 0,
      "outputs": []
    },
    {
      "metadata": {
        "id": "FqsJz5OlD8uT",
        "colab_type": "code",
        "outputId": "5288fa6b-ff54-4e31-b880-71ac224e9344",
        "colab": {
          "base_uri": "https://localhost:8080/",
          "height": 3043
        }
      },
      "cell_type": "code",
      "source": [
        "datagen.fit(x_train)\n",
        "history=model.fit_generator(datagen.flow(x_train, y_train,batch_size=batch_size),\n",
        "                            steps_per_epoch=x_train.shape[0] // batch_size, \n",
        "                            epochs=epochs,\n",
        "                            validation_data=(x_test, y_test),\n",
        "                            callbacks=[learning_rate_reduction],\n",
        "                            verbose=1)\n",
        "\n",
        "\n",
        "score = model.evaluate(x_test, y_test, verbose=0)\n",
        "\n",
        "print('Test loss:', score[0])\n",
        "print('Test accuracy:', score[1])"
      ],
      "execution_count": 0,
      "outputs": [
        {
          "output_type": "stream",
          "text": [
            "Epoch 1/75\n",
            "468/468 [==============================] - 21s 45ms/step - loss: 0.3839 - acc: 0.8797 - val_loss: 0.1305 - val_acc: 0.9585\n",
            "Epoch 2/75\n",
            "468/468 [==============================] - 20s 43ms/step - loss: 0.2013 - acc: 0.9383 - val_loss: 0.0869 - val_acc: 0.9723\n",
            "Epoch 3/75\n",
            "468/468 [==============================] - 20s 43ms/step - loss: 0.1648 - acc: 0.9503 - val_loss: 0.0954 - val_acc: 0.9721\n",
            "Epoch 4/75\n",
            "468/468 [==============================] - 20s 42ms/step - loss: 0.1410 - acc: 0.9576 - val_loss: 0.0685 - val_acc: 0.9788\n",
            "Epoch 5/75\n",
            "468/468 [==============================] - 20s 42ms/step - loss: 0.1310 - acc: 0.9599 - val_loss: 0.0601 - val_acc: 0.9812\n",
            "Epoch 6/75\n",
            "468/468 [==============================] - 20s 42ms/step - loss: 0.1175 - acc: 0.9640 - val_loss: 0.0627 - val_acc: 0.9778\n",
            "Epoch 7/75\n",
            "468/468 [==============================] - 20s 42ms/step - loss: 0.1143 - acc: 0.9655 - val_loss: 0.0617 - val_acc: 0.9802\n",
            "Epoch 8/75\n",
            "468/468 [==============================] - 19s 42ms/step - loss: 0.1062 - acc: 0.9679 - val_loss: 0.0478 - val_acc: 0.9844\n",
            "Epoch 9/75\n",
            "468/468 [==============================] - 20s 42ms/step - loss: 0.0973 - acc: 0.9705 - val_loss: 0.0471 - val_acc: 0.9855\n",
            "Epoch 10/75\n",
            "468/468 [==============================] - 20s 42ms/step - loss: 0.0916 - acc: 0.9717 - val_loss: 0.0473 - val_acc: 0.9853\n",
            "Epoch 11/75\n",
            "468/468 [==============================] - 20s 43ms/step - loss: 0.0880 - acc: 0.9728 - val_loss: 0.0517 - val_acc: 0.9852\n",
            "Epoch 12/75\n",
            "468/468 [==============================] - 20s 44ms/step - loss: 0.0838 - acc: 0.9743 - val_loss: 0.0459 - val_acc: 0.9860\n",
            "Epoch 13/75\n",
            "468/468 [==============================] - 20s 44ms/step - loss: 0.0831 - acc: 0.9746 - val_loss: 0.0445 - val_acc: 0.9864\n",
            "Epoch 14/75\n",
            "468/468 [==============================] - 20s 44ms/step - loss: 0.0813 - acc: 0.9760 - val_loss: 0.0449 - val_acc: 0.9841\n",
            "Epoch 15/75\n",
            "468/468 [==============================] - 21s 44ms/step - loss: 0.0765 - acc: 0.9772 - val_loss: 0.0446 - val_acc: 0.9868\n",
            "Epoch 16/75\n",
            "468/468 [==============================] - 21s 44ms/step - loss: 0.0766 - acc: 0.9766 - val_loss: 0.0421 - val_acc: 0.9866\n",
            "Epoch 17/75\n",
            "468/468 [==============================] - 21s 44ms/step - loss: 0.0735 - acc: 0.9777 - val_loss: 0.0403 - val_acc: 0.9866\n",
            "Epoch 18/75\n",
            "468/468 [==============================] - 21s 44ms/step - loss: 0.0704 - acc: 0.9788 - val_loss: 0.0358 - val_acc: 0.9892\n",
            "Epoch 19/75\n",
            "468/468 [==============================] - 21s 44ms/step - loss: 0.0691 - acc: 0.9787 - val_loss: 0.0337 - val_acc: 0.9884\n",
            "Epoch 20/75\n",
            "468/468 [==============================] - 21s 44ms/step - loss: 0.0696 - acc: 0.9788 - val_loss: 0.0336 - val_acc: 0.9898\n",
            "Epoch 21/75\n",
            "468/468 [==============================] - 21s 44ms/step - loss: 0.0687 - acc: 0.9794 - val_loss: 0.0363 - val_acc: 0.9877\n",
            "Epoch 22/75\n",
            "468/468 [==============================] - 21s 44ms/step - loss: 0.0631 - acc: 0.9807 - val_loss: 0.0357 - val_acc: 0.9880\n",
            "Epoch 23/75\n",
            "468/468 [==============================] - 21s 44ms/step - loss: 0.0593 - acc: 0.9815 - val_loss: 0.0356 - val_acc: 0.9900\n",
            "Epoch 24/75\n",
            "468/468 [==============================] - 21s 44ms/step - loss: 0.0620 - acc: 0.9805 - val_loss: 0.0365 - val_acc: 0.9889\n",
            "Epoch 25/75\n",
            "468/468 [==============================] - 21s 44ms/step - loss: 0.0607 - acc: 0.9814 - val_loss: 0.0322 - val_acc: 0.9899\n",
            "Epoch 26/75\n",
            "468/468 [==============================] - 21s 44ms/step - loss: 0.0601 - acc: 0.9820 - val_loss: 0.0309 - val_acc: 0.9908\n",
            "Epoch 27/75\n",
            "468/468 [==============================] - 21s 44ms/step - loss: 0.0607 - acc: 0.9818 - val_loss: 0.0314 - val_acc: 0.9894\n",
            "Epoch 28/75\n",
            "468/468 [==============================] - 20s 44ms/step - loss: 0.0558 - acc: 0.9830 - val_loss: 0.0313 - val_acc: 0.9909\n",
            "Epoch 29/75\n",
            "468/468 [==============================] - 21s 44ms/step - loss: 0.0556 - acc: 0.9830 - val_loss: 0.0338 - val_acc: 0.9905\n",
            "\n",
            "Epoch 00029: ReduceLROnPlateau reducing learning rate to 0.25.\n",
            "Epoch 30/75\n",
            "468/468 [==============================] - 20s 44ms/step - loss: 0.0478 - acc: 0.9847 - val_loss: 0.0291 - val_acc: 0.9913\n",
            "Epoch 31/75\n",
            "468/468 [==============================] - 21s 44ms/step - loss: 0.0446 - acc: 0.9862 - val_loss: 0.0271 - val_acc: 0.9921\n",
            "Epoch 32/75\n",
            "468/468 [==============================] - 21s 44ms/step - loss: 0.0468 - acc: 0.9856 - val_loss: 0.0249 - val_acc: 0.9930\n",
            "Epoch 33/75\n",
            "468/468 [==============================] - 21s 44ms/step - loss: 0.0457 - acc: 0.9865 - val_loss: 0.0264 - val_acc: 0.9921\n",
            "Epoch 34/75\n",
            "468/468 [==============================] - 21s 44ms/step - loss: 0.0418 - acc: 0.9872 - val_loss: 0.0260 - val_acc: 0.9920\n",
            "Epoch 35/75\n",
            "468/468 [==============================] - 21s 44ms/step - loss: 0.0416 - acc: 0.9873 - val_loss: 0.0261 - val_acc: 0.9920\n",
            "\n",
            "Epoch 00035: ReduceLROnPlateau reducing learning rate to 0.125.\n",
            "Epoch 36/75\n",
            "468/468 [==============================] - 21s 44ms/step - loss: 0.0381 - acc: 0.9885 - val_loss: 0.0238 - val_acc: 0.9924\n",
            "Epoch 37/75\n",
            "468/468 [==============================] - 21s 44ms/step - loss: 0.0378 - acc: 0.9876 - val_loss: 0.0235 - val_acc: 0.9931\n",
            "Epoch 38/75\n",
            "468/468 [==============================] - 21s 44ms/step - loss: 0.0361 - acc: 0.9882 - val_loss: 0.0233 - val_acc: 0.9923\n",
            "\n",
            "Epoch 00038: ReduceLROnPlateau reducing learning rate to 0.0625.\n",
            "Epoch 39/75\n",
            "468/468 [==============================] - 21s 44ms/step - loss: 0.0358 - acc: 0.9888 - val_loss: 0.0234 - val_acc: 0.9925\n",
            "Epoch 40/75\n",
            "468/468 [==============================] - 20s 44ms/step - loss: 0.0344 - acc: 0.9893 - val_loss: 0.0236 - val_acc: 0.9924\n",
            "Epoch 41/75\n",
            "468/468 [==============================] - 21s 44ms/step - loss: 0.0338 - acc: 0.9898 - val_loss: 0.0234 - val_acc: 0.9925\n",
            "\n",
            "Epoch 00041: ReduceLROnPlateau reducing learning rate to 0.03125.\n",
            "Epoch 42/75\n",
            "468/468 [==============================] - 21s 44ms/step - loss: 0.0329 - acc: 0.9899 - val_loss: 0.0230 - val_acc: 0.9927\n",
            "Epoch 43/75\n",
            "468/468 [==============================] - 21s 44ms/step - loss: 0.0319 - acc: 0.9903 - val_loss: 0.0225 - val_acc: 0.9930\n",
            "Epoch 44/75\n",
            "468/468 [==============================] - 21s 44ms/step - loss: 0.0322 - acc: 0.9901 - val_loss: 0.0226 - val_acc: 0.9930\n",
            "\n",
            "Epoch 00044: ReduceLROnPlateau reducing learning rate to 0.015625.\n",
            "Epoch 45/75\n",
            "468/468 [==============================] - 20s 43ms/step - loss: 0.0330 - acc: 0.9900 - val_loss: 0.0223 - val_acc: 0.9932\n",
            "Epoch 46/75\n",
            "468/468 [==============================] - 20s 43ms/step - loss: 0.0335 - acc: 0.9893 - val_loss: 0.0224 - val_acc: 0.9935\n",
            "Epoch 47/75\n",
            "468/468 [==============================] - 20s 43ms/step - loss: 0.0337 - acc: 0.9893 - val_loss: 0.0222 - val_acc: 0.9934\n",
            "Epoch 48/75\n",
            "468/468 [==============================] - 20s 43ms/step - loss: 0.0328 - acc: 0.9899 - val_loss: 0.0220 - val_acc: 0.9932\n",
            "Epoch 49/75\n",
            "468/468 [==============================] - 20s 43ms/step - loss: 0.0333 - acc: 0.9895 - val_loss: 0.0219 - val_acc: 0.9931\n",
            "\n",
            "Epoch 00049: ReduceLROnPlateau reducing learning rate to 0.0078125.\n",
            "Epoch 50/75\n",
            "468/468 [==============================] - 20s 42ms/step - loss: 0.0324 - acc: 0.9899 - val_loss: 0.0222 - val_acc: 0.9932\n",
            "Epoch 51/75\n",
            "468/468 [==============================] - 21s 44ms/step - loss: 0.0304 - acc: 0.9905 - val_loss: 0.0220 - val_acc: 0.9930\n",
            "Epoch 52/75\n",
            "468/468 [==============================] - 20s 44ms/step - loss: 0.0332 - acc: 0.9896 - val_loss: 0.0220 - val_acc: 0.9930\n",
            "\n",
            "Epoch 00052: ReduceLROnPlateau reducing learning rate to 0.00390625.\n",
            "Epoch 53/75\n",
            "468/468 [==============================] - 21s 44ms/step - loss: 0.0328 - acc: 0.9898 - val_loss: 0.0219 - val_acc: 0.9929\n",
            "Epoch 54/75\n",
            "468/468 [==============================] - 20s 42ms/step - loss: 0.0318 - acc: 0.9901 - val_loss: 0.0220 - val_acc: 0.9932\n",
            "Epoch 55/75\n",
            "468/468 [==============================] - 20s 44ms/step - loss: 0.0326 - acc: 0.9896 - val_loss: 0.0220 - val_acc: 0.9933\n",
            "\n",
            "Epoch 00055: ReduceLROnPlateau reducing learning rate to 0.001953125.\n",
            "Epoch 56/75\n",
            "468/468 [==============================] - 21s 44ms/step - loss: 0.0311 - acc: 0.9900 - val_loss: 0.0218 - val_acc: 0.9930\n",
            "Epoch 57/75\n",
            "468/468 [==============================] - 21s 44ms/step - loss: 0.0311 - acc: 0.9905 - val_loss: 0.0219 - val_acc: 0.9930\n",
            "Epoch 58/75\n",
            "468/468 [==============================] - 20s 43ms/step - loss: 0.0323 - acc: 0.9897 - val_loss: 0.0219 - val_acc: 0.9929\n",
            "\n",
            "Epoch 00058: ReduceLROnPlateau reducing learning rate to 0.0009765625.\n",
            "Epoch 59/75\n",
            "468/468 [==============================] - 20s 43ms/step - loss: 0.0332 - acc: 0.9900 - val_loss: 0.0219 - val_acc: 0.9933\n",
            "Epoch 60/75\n",
            "468/468 [==============================] - 20s 43ms/step - loss: 0.0314 - acc: 0.9904 - val_loss: 0.0219 - val_acc: 0.9932\n",
            "Epoch 61/75\n",
            "468/468 [==============================] - 19s 41ms/step - loss: 0.0320 - acc: 0.9900 - val_loss: 0.0220 - val_acc: 0.9932\n",
            "\n",
            "Epoch 00061: ReduceLROnPlateau reducing learning rate to 0.00048828125.\n",
            "Epoch 62/75\n",
            "468/468 [==============================] - 20s 42ms/step - loss: 0.0322 - acc: 0.9899 - val_loss: 0.0220 - val_acc: 0.9929\n",
            "Epoch 63/75\n",
            "468/468 [==============================] - 20s 43ms/step - loss: 0.0327 - acc: 0.9900 - val_loss: 0.0220 - val_acc: 0.9931\n",
            "Epoch 64/75\n",
            "468/468 [==============================] - 20s 43ms/step - loss: 0.0329 - acc: 0.9898 - val_loss: 0.0216 - val_acc: 0.9932\n",
            "\n",
            "Epoch 00064: ReduceLROnPlateau reducing learning rate to 0.000244140625.\n",
            "Epoch 65/75\n",
            "468/468 [==============================] - 20s 42ms/step - loss: 0.0313 - acc: 0.9903 - val_loss: 0.0218 - val_acc: 0.9932\n",
            "Epoch 66/75\n",
            "468/468 [==============================] - 20s 43ms/step - loss: 0.0304 - acc: 0.9901 - val_loss: 0.0218 - val_acc: 0.9930\n",
            "Epoch 67/75\n",
            "468/468 [==============================] - 20s 44ms/step - loss: 0.0322 - acc: 0.9902 - val_loss: 0.0217 - val_acc: 0.9931\n",
            "\n",
            "Epoch 00067: ReduceLROnPlateau reducing learning rate to 0.0001220703125.\n",
            "Epoch 68/75\n",
            "468/468 [==============================] - 20s 42ms/step - loss: 0.0311 - acc: 0.9902 - val_loss: 0.0219 - val_acc: 0.9930\n",
            "Epoch 69/75\n",
            "468/468 [==============================] - 20s 42ms/step - loss: 0.0319 - acc: 0.9904 - val_loss: 0.0217 - val_acc: 0.9931\n",
            "Epoch 70/75\n",
            "468/468 [==============================] - 20s 44ms/step - loss: 0.0305 - acc: 0.9900 - val_loss: 0.0221 - val_acc: 0.9931\n",
            "\n",
            "Epoch 00070: ReduceLROnPlateau reducing learning rate to 0.0001.\n",
            "Epoch 71/75\n",
            "468/468 [==============================] - 20s 44ms/step - loss: 0.0317 - acc: 0.9899 - val_loss: 0.0220 - val_acc: 0.9929\n",
            "Epoch 72/75\n",
            "468/468 [==============================] - 20s 43ms/step - loss: 0.0327 - acc: 0.9902 - val_loss: 0.0220 - val_acc: 0.9930\n",
            "Epoch 73/75\n",
            "468/468 [==============================] - 20s 43ms/step - loss: 0.0323 - acc: 0.9899 - val_loss: 0.0218 - val_acc: 0.9928\n",
            "Epoch 74/75\n",
            "468/468 [==============================] - 21s 44ms/step - loss: 0.0307 - acc: 0.9906 - val_loss: 0.0219 - val_acc: 0.9932\n",
            "Epoch 75/75\n",
            "468/468 [==============================] - 21s 44ms/step - loss: 0.0323 - acc: 0.9901 - val_loss: 0.0219 - val_acc: 0.9932\n",
            "Test loss: 0.021887664686716744\n",
            "Test accuracy: 0.9932\n"
          ],
          "name": "stdout"
        }
      ]
    },
    {
      "metadata": {
        "id": "ecPRrH_7myaZ",
        "colab_type": "code",
        "colab": {}
      },
      "cell_type": "code",
      "source": [
        "import matplotlib.pyplot as plt #for plotting\n",
        "import numpy as np\n",
        "from sklearn.metrics import confusion_matrix\n",
        "import itertools"
      ],
      "execution_count": 0,
      "outputs": []
    },
    {
      "metadata": {
        "id": "SbI7qb3iEijq",
        "colab_type": "code",
        "colab": {}
      },
      "cell_type": "code",
      "source": [
        "# Look at confusion matrix \n",
        "#Note, this code is taken straight from the SKLEARN website, an nice way of viewing confusion matrix.\n",
        "def plot_confusion_matrix(cm, classes,\n",
        "                          normalize=False,\n",
        "                          title='Confusion matrix',\n",
        "                          cmap=plt.cm.Blues):\n",
        "    \"\"\"\n",
        "    This function prints and plots the confusion matrix.\n",
        "    Normalization can be applied by setting `normalize=True`.\n",
        "    \"\"\"\n",
        "    plt.imshow(cm, interpolation='nearest', cmap=cmap)\n",
        "    plt.title(title)\n",
        "    plt.colorbar()\n",
        "    tick_marks = np.arange(len(classes))\n",
        "    plt.xticks(tick_marks, classes, rotation=45)\n",
        "    plt.yticks(tick_marks, classes)\n",
        "\n",
        "    if normalize:\n",
        "        cm = cm.astype('float') / cm.sum(axis=1)[:, np.newaxis]\n",
        "\n",
        "    thresh = cm.max() / 2.\n",
        "    for i, j in itertools.product(range(cm.shape[0]), range(cm.shape[1])):\n",
        "        plt.text(j, i, cm[i, j],\n",
        "                 horizontalalignment=\"center\",\n",
        "                 color=\"white\" if cm[i, j] > thresh else \"black\")\n",
        "\n",
        "    plt.tight_layout()\n",
        "    plt.ylabel('True label')\n",
        "    plt.xlabel('Predicted label')"
      ],
      "execution_count": 0,
      "outputs": []
    },
    {
      "metadata": {
        "id": "O44s9aGDmux2",
        "colab_type": "code",
        "outputId": "298d4814-b83e-4757-a735-677d62b05be0",
        "colab": {
          "base_uri": "https://localhost:8080/",
          "height": 415
        }
      },
      "cell_type": "code",
      "source": [
        "# Predict the values from the validation dataset\n",
        "Y_pred = model.predict(x_test)\n",
        "# Convert predictions classes to one hot vectors \n",
        "Y_pred_classes = np.argmax(Y_pred, axis = 1) \n",
        "# Convert validation observations to one hot vectors\n",
        "Y_true = np.argmax(y_test, axis = 1) \n",
        "# compute the confusion matrix\n",
        "confusion_mtx = confusion_matrix(Y_true, Y_pred_classes) \n",
        "# plot the confusion matrix\n",
        "plot_confusion_matrix(confusion_mtx, classes = range(10))"
      ],
      "execution_count": 0,
      "outputs": [
        {
          "output_type": "display_data",
          "data": {
            "image/png": "[encoded data removed]",
            "text/plain": [
              "<matplotlib.figure.Figure at 0x7f8b26ed8978>"
            ]
          },
          "metadata": {
            "tags": []
          }
        }
      ]
    },
    {
      "metadata": {
        "id": "chfBEpY9nBCt",
        "colab_type": "code",
        "outputId": "b45fa87e-217a-4307-ae5d-c9a5be4e072b",
        "colab": {
          "base_uri": "https://localhost:8080/",
          "height": 724
        }
      },
      "cell_type": "code",
      "source": [
        "print(history.history.keys())\n",
        "accuracy = history.history['acc'][1:]\n",
        "val_accuracy = history.history['val_acc'][1:]\n",
        "loss = history.history['loss'][1:]\n",
        "val_loss = history.history['val_loss'][1:]\n",
        "epochs = range(len(accuracy))\n",
        "plt.plot(epochs, accuracy, 'r', label='Training accuracy')\n",
        "plt.plot(epochs, val_accuracy, 'b', label='Validation accuracy')\n",
        "plt.title('Training and validation accuracy')\n",
        "plt.legend()\n",
        "plt.show()\n",
        "plt.figure()\n",
        "plt.plot(epochs, loss, 'r', label='Training loss')\n",
        "plt.plot(epochs, val_loss, 'b', label='Validation loss')\n",
        "plt.title('Training and validation loss')\n",
        "plt.legend()\n",
        "plt.show()"
      ],
      "execution_count": 0,
      "outputs": [
        {
          "output_type": "stream",
          "text": [
            "dict_keys(['val_loss', 'val_acc', 'loss', 'acc', 'lr'])\n"
          ],
          "name": "stdout"
        },
        {
          "output_type": "display_data",
          "data": {
            "image/png": "[encoded data removed]",
            "text/plain": [
              "<matplotlib.figure.Figure at 0x7f8b24668f28>"
            ]
          },
          "metadata": {
            "tags": []
          }
        },
        {
          "output_type": "display_data",
          "data": {
            "image/png": "[encoded data removed]",
            "text/plain": [
              "<matplotlib.figure.Figure at 0x7f8b24659828>"
            ]
          },
          "metadata": {
            "tags": []
          }
        }
      ]
    },
    {
      "metadata": {
        "id": "DkWWCo8wnu9w",
        "colab_type": "code",
        "colab": {}
      },
      "cell_type": "code",
      "source": [
        ""
      ],
      "execution_count": 0,
      "outputs": []
    }
  ]
}