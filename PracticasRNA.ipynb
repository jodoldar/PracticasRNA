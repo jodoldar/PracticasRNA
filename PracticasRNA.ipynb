{
  "nbformat": 4,
  "nbformat_minor": 0,
  "metadata": {
    "colab": {
      "name": "PracticasRNA.ipynb",
      "version": "0.3.2",
      "provenance": [],
      "collapsed_sections": [],
      "include_colab_link": true
    },
    "kernelspec": {
      "name": "python3",
      "display_name": "Python 3"
    },
    "accelerator": "GPU"
  },
  "cells": [
    {
      "cell_type": "markdown",
      "metadata": {
        "id": "view-in-github",
        "colab_type": "text"
      },
      "source": [
        "<a href=\"https://colab.research.google.com/github/jodoldar/PracticasRNA/blob/master/PracticasRNA.ipynb\" target=\"_parent\"><img src=\"https://colab.research.google.com/assets/colab-badge.svg\" alt=\"Open In Colab\"/></a>"
      ]
    },
    {
      "metadata": {
        "id": "MflBI0ALObAp",
        "colab_type": "code",
        "colab": {
          "base_uri": "https://localhost:8080/",
          "height": 184
        },
        "outputId": "7af71497-1342-47b2-f7f3-55cb82190e0d"
      },
      "cell_type": "code",
      "source": [
        "!pip3 install keras"
      ],
      "execution_count": 1,
      "outputs": [
        {
          "output_type": "stream",
          "text": [
            "Requirement already satisfied: keras in /usr/local/lib/python3.6/dist-packages (2.2.4)\n",
            "Requirement already satisfied: pyyaml in /usr/local/lib/python3.6/dist-packages (from keras) (3.13)\n",
            "Requirement already satisfied: keras-applications>=1.0.6 in /usr/local/lib/python3.6/dist-packages (from keras) (1.0.6)\n",
            "Requirement already satisfied: six>=1.9.0 in /usr/local/lib/python3.6/dist-packages (from keras) (1.11.0)\n",
            "Requirement already satisfied: numpy>=1.9.1 in /usr/local/lib/python3.6/dist-packages (from keras) (1.14.6)\n",
            "Requirement already satisfied: scipy>=0.14 in /usr/local/lib/python3.6/dist-packages (from keras) (1.1.0)\n",
            "Requirement already satisfied: keras-preprocessing>=1.0.5 in /usr/local/lib/python3.6/dist-packages (from keras) (1.0.5)\n",
            "Requirement already satisfied: h5py in /usr/local/lib/python3.6/dist-packages (from keras) (2.8.0)\n"
          ],
          "name": "stdout"
        }
      ]
    },
    {
      "metadata": {
        "id": "TGzyqBlLPMze",
        "colab_type": "text"
      },
      "cell_type": "markdown",
      "source": [
        "# MNIST Dataset "
      ]
    },
    {
      "metadata": {
        "id": "9IQTkhSNPRE5",
        "colab_type": "code",
        "colab": {
          "base_uri": "https://localhost:8080/",
          "height": 34
        },
        "outputId": "6c7dc084-a112-4a49-84d8-d002687ba7e2"
      },
      "cell_type": "code",
      "source": [
        "from __future__ import print_function\n",
        "\n",
        "import keras\n",
        "from keras.datasets import mnist\n",
        "from keras.models import Sequential\n",
        "from keras.layers import Dense, Activation\n",
        "from keras.optimizers import SGD\n",
        "\n",
        "from keras.layers.normalization import BatchNormalization"
      ],
      "execution_count": 2,
      "outputs": [
        {
          "output_type": "stream",
          "text": [
            "Using TensorFlow backend.\n"
          ],
          "name": "stderr"
        }
      ]
    },
    {
      "metadata": {
        "id": "f_rbwze_PnT2",
        "colab_type": "code",
        "colab": {}
      },
      "cell_type": "code",
      "source": [
        "batch_size = 128\n",
        "epochs = 25\n",
        "num_classes=10"
      ],
      "execution_count": 0,
      "outputs": []
    },
    {
      "metadata": {
        "id": "YwUGokqXQCGz",
        "colab_type": "text"
      },
      "cell_type": "markdown",
      "source": [
        "Load MNIST Dataset and transform it"
      ]
    },
    {
      "metadata": {
        "id": "WMTcN38-PrlR",
        "colab_type": "code",
        "colab": {
          "base_uri": "https://localhost:8080/",
          "height": 85
        },
        "outputId": "565f4a7d-1b3e-442f-9235-9c1adb6c58f8"
      },
      "cell_type": "code",
      "source": [
        "(x_train, y_train), (x_test, y_test) = mnist.load_data()\n",
        "\n",
        "print('training set', x_train.shape)\n",
        "print('test set', x_test.shape)\n",
        "\n",
        "x_train = x_train.reshape(60000, 784)\n",
        "x_test = x_test.reshape(10000, 784)\n",
        "x_train = x_train.astype('float32')\n",
        "x_test = x_test.astype('float32')\n",
        "\n",
        "# Normalize [0..255]-->[0..1]\n",
        "x_train /= 255\n",
        "x_test /= 255\n",
        "\n",
        "# convert class vectors to binary class matrices\n",
        "y_train = keras.utils.to_categorical(y_train, num_classes)\n",
        "y_test = keras.utils.to_categorical(y_test, num_classes)"
      ],
      "execution_count": 4,
      "outputs": [
        {
          "output_type": "stream",
          "text": [
            "Downloading data from https://s3.amazonaws.com/img-datasets/mnist.npz\n",
            "11493376/11490434 [==============================] - 0s 0us/step\n",
            "training set (60000, 28, 28)\n",
            "test set (10000, 28, 28)\n"
          ],
          "name": "stdout"
        }
      ]
    },
    {
      "metadata": {
        "id": "C3ZHIaFZQFWo",
        "colab_type": "code",
        "colab": {}
      },
      "cell_type": "code",
      "source": [
        "def add_n_layers(num_layers, size):\n",
        "  for n in range(num_layers):\n",
        "    model.add(Dense(size, activation='relu'))"
      ],
      "execution_count": 0,
      "outputs": []
    },
    {
      "metadata": {
        "id": "MMCZ3e2gQtyu",
        "colab_type": "text"
      },
      "cell_type": "markdown",
      "source": [
        "For now, we start from the Practice 1 state, Input Layer - 3x1024 Layer - 4x512 Layer - SoftMax Output"
      ]
    },
    {
      "metadata": {
        "id": "pCcCIszqQaLb",
        "colab_type": "code",
        "colab": {}
      },
      "cell_type": "code",
      "source": [
        "# Practice 1 Model\n",
        "# model = Sequential()\n",
        "# model.add(Dense(1024, activation='relu', input_shape=(784,)))\n",
        "\n",
        "# add_n_layers(3, 1024)\n",
        "# add_n_layers(4, 512)\n",
        "\n",
        "# model.add(Dense(num_classes, activation='softmax'))"
      ],
      "execution_count": 0,
      "outputs": []
    },
    {
      "metadata": {
        "id": "ge8Kk1vnSCpx",
        "colab_type": "text"
      },
      "cell_type": "markdown",
      "source": [
        "Let's start first with Batch Normalization. In this case, we start from fresh instead of using the previous layers, to minimize the computation time."
      ]
    },
    {
      "metadata": {
        "id": "QA43rWyMR84K",
        "colab_type": "code",
        "colab": {
          "base_uri": "https://localhost:8080/",
          "height": 476
        },
        "outputId": "6c102945-7f80-4841-9d85-761205d785c5"
      },
      "cell_type": "code",
      "source": [
        "# Batch Normalization Model\n",
        "model = Sequential()\n",
        "model.add(Dense(1024, input_shape=(784,)))\n",
        "model.add(BatchNormalization())\n",
        "model.add(Activation('relu'))\n",
        "\n",
        "model.add(Dense(1024))\n",
        "model.add(BatchNormalization())\n",
        "model.add(Activation('relu'))\n",
        "\n",
        "model.add(Dense(1024))\n",
        "model.add(BatchNormalization())\n",
        "model.add(Activation('relu'))\n",
        "\n",
        "model.add(Dense(num_classes, activation='softmax'))\n",
        "\n",
        "model.summary()"
      ],
      "execution_count": 7,
      "outputs": [
        {
          "output_type": "stream",
          "text": [
            "_________________________________________________________________\n",
            "Layer (type)                 Output Shape              Param #   \n",
            "=================================================================\n",
            "dense_1 (Dense)              (None, 1024)              803840    \n",
            "_________________________________________________________________\n",
            "batch_normalization_1 (Batch (None, 1024)              4096      \n",
            "_________________________________________________________________\n",
            "activation_1 (Activation)    (None, 1024)              0         \n",
            "_________________________________________________________________\n",
            "dense_2 (Dense)              (None, 1024)              1049600   \n",
            "_________________________________________________________________\n",
            "batch_normalization_2 (Batch (None, 1024)              4096      \n",
            "_________________________________________________________________\n",
            "activation_2 (Activation)    (None, 1024)              0         \n",
            "_________________________________________________________________\n",
            "dense_3 (Dense)              (None, 1024)              1049600   \n",
            "_________________________________________________________________\n",
            "batch_normalization_3 (Batch (None, 1024)              4096      \n",
            "_________________________________________________________________\n",
            "activation_3 (Activation)    (None, 1024)              0         \n",
            "_________________________________________________________________\n",
            "dense_4 (Dense)              (None, 10)                10250     \n",
            "=================================================================\n",
            "Total params: 2,925,578\n",
            "Trainable params: 2,919,434\n",
            "Non-trainable params: 6,144\n",
            "_________________________________________________________________\n"
          ],
          "name": "stdout"
        }
      ]
    },
    {
      "metadata": {
        "id": "22r6-YJpQqVo",
        "colab_type": "text"
      },
      "cell_type": "markdown",
      "source": [
        "Defining an optimizer"
      ]
    },
    {
      "metadata": {
        "id": "aKFeEpefQek7",
        "colab_type": "code",
        "colab": {}
      },
      "cell_type": "code",
      "source": [
        "sgd=SGD(lr=0.1, decay=1e-6, momentum=0.9)"
      ],
      "execution_count": 0,
      "outputs": []
    },
    {
      "metadata": {
        "id": "ptLSarrQRIts",
        "colab_type": "text"
      },
      "cell_type": "markdown",
      "source": [
        "Compile the model, define loss and link the optimizer"
      ]
    },
    {
      "metadata": {
        "id": "wWun8vlhQsnM",
        "colab_type": "code",
        "colab": {}
      },
      "cell_type": "code",
      "source": [
        "model.compile(loss='categorical_crossentropy',\n",
        "              optimizer=sgd,\n",
        "              metrics=['accuracy'])"
      ],
      "execution_count": 0,
      "outputs": []
    },
    {
      "metadata": {
        "id": "0ondj3IXRNzL",
        "colab_type": "text"
      },
      "cell_type": "markdown",
      "source": [
        "Finally, train the model and evaluate over the test data"
      ]
    },
    {
      "metadata": {
        "id": "snspicLPRK2P",
        "colab_type": "code",
        "colab": {
          "base_uri": "https://localhost:8080/",
          "height": 918
        },
        "outputId": "db0a81ec-f675-4306-ac19-f6f637fec2c9"
      },
      "cell_type": "code",
      "source": [
        "history = model.fit(x_train, y_train,\n",
        "                    batch_size=batch_size,\n",
        "                    epochs=epochs,\n",
        "                    verbose=1,\n",
        "                    validation_data=(x_test, y_test))\n",
        "\n",
        "# Evaluate over test\n",
        "score = model.evaluate(x_test, y_test, verbose=0)\n",
        "\n",
        "\n",
        "print('Test loss:', score[0])\n",
        "print('Test accuracy:', score[1])"
      ],
      "execution_count": 10,
      "outputs": [
        {
          "output_type": "stream",
          "text": [
            "Train on 60000 samples, validate on 10000 samples\n",
            "Epoch 1/25\n",
            "60000/60000 [==============================] - 9s 158us/step - loss: 0.2244 - acc: 0.9387 - val_loss: 0.1293 - val_acc: 0.9642\n",
            "Epoch 2/25\n",
            "60000/60000 [==============================] - 7s 121us/step - loss: 0.0774 - acc: 0.9764 - val_loss: 0.0789 - val_acc: 0.9769\n",
            "Epoch 3/25\n",
            "60000/60000 [==============================] - 7s 119us/step - loss: 0.0501 - acc: 0.9841 - val_loss: 0.0840 - val_acc: 0.9762\n",
            "Epoch 4/25\n",
            "60000/60000 [==============================] - 7s 122us/step - loss: 0.0388 - acc: 0.9875 - val_loss: 0.0922 - val_acc: 0.9768\n",
            "Epoch 5/25\n",
            "60000/60000 [==============================] - 7s 120us/step - loss: 0.0270 - acc: 0.9917 - val_loss: 0.0663 - val_acc: 0.9814\n",
            "Epoch 6/25\n",
            "60000/60000 [==============================] - 7s 125us/step - loss: 0.0178 - acc: 0.9944 - val_loss: 0.0730 - val_acc: 0.9798\n",
            "Epoch 7/25\n",
            "60000/60000 [==============================] - 8s 129us/step - loss: 0.0135 - acc: 0.9954 - val_loss: 0.0762 - val_acc: 0.9829\n",
            "Epoch 8/25\n",
            "60000/60000 [==============================] - 8s 126us/step - loss: 0.0122 - acc: 0.9961 - val_loss: 0.0752 - val_acc: 0.9820\n",
            "Epoch 9/25\n",
            "60000/60000 [==============================] - 8s 126us/step - loss: 0.0108 - acc: 0.9966 - val_loss: 0.0775 - val_acc: 0.9813\n",
            "Epoch 10/25\n",
            "60000/60000 [==============================] - 7s 125us/step - loss: 0.0056 - acc: 0.9984 - val_loss: 0.0709 - val_acc: 0.9842\n",
            "Epoch 11/25\n",
            "60000/60000 [==============================] - 8s 125us/step - loss: 0.0053 - acc: 0.9982 - val_loss: 0.0642 - val_acc: 0.9843\n",
            "Epoch 12/25\n",
            "60000/60000 [==============================] - 7s 124us/step - loss: 0.0051 - acc: 0.9983 - val_loss: 0.0737 - val_acc: 0.9845\n",
            "Epoch 13/25\n",
            "60000/60000 [==============================] - 8s 129us/step - loss: 0.0059 - acc: 0.9982 - val_loss: 0.0698 - val_acc: 0.9848\n",
            "Epoch 14/25\n",
            "60000/60000 [==============================] - 8s 127us/step - loss: 0.0092 - acc: 0.9973 - val_loss: 0.0930 - val_acc: 0.9798\n",
            "Epoch 15/25\n",
            "60000/60000 [==============================] - 8s 129us/step - loss: 0.0083 - acc: 0.9972 - val_loss: 0.0785 - val_acc: 0.9837\n",
            "Epoch 16/25\n",
            "60000/60000 [==============================] - 8s 128us/step - loss: 0.0048 - acc: 0.9984 - val_loss: 0.0705 - val_acc: 0.9839\n",
            "Epoch 17/25\n",
            "60000/60000 [==============================] - 8s 128us/step - loss: 0.0054 - acc: 0.9985 - val_loss: 0.0703 - val_acc: 0.9846\n",
            "Epoch 18/25\n",
            "60000/60000 [==============================] - 8s 129us/step - loss: 0.0043 - acc: 0.9987 - val_loss: 0.0757 - val_acc: 0.9854\n",
            "Epoch 19/25\n",
            "60000/60000 [==============================] - 8s 129us/step - loss: 0.0042 - acc: 0.9988 - val_loss: 0.0728 - val_acc: 0.9850\n",
            "Epoch 20/25\n",
            "60000/60000 [==============================] - 8s 132us/step - loss: 0.0036 - acc: 0.9990 - val_loss: 0.0700 - val_acc: 0.9848\n",
            "Epoch 21/25\n",
            "60000/60000 [==============================] - 8s 127us/step - loss: 0.0055 - acc: 0.9983 - val_loss: 0.0925 - val_acc: 0.9823\n",
            "Epoch 22/25\n",
            "60000/60000 [==============================] - 8s 129us/step - loss: 0.0059 - acc: 0.9981 - val_loss: 0.0767 - val_acc: 0.9843\n",
            "Epoch 23/25\n",
            "60000/60000 [==============================] - 8s 129us/step - loss: 0.0029 - acc: 0.9991 - val_loss: 0.0633 - val_acc: 0.9858\n",
            "Epoch 24/25\n",
            "60000/60000 [==============================] - 8s 134us/step - loss: 0.0011 - acc: 0.9998 - val_loss: 0.0637 - val_acc: 0.9865\n",
            "Epoch 25/25\n",
            "60000/60000 [==============================] - 8s 135us/step - loss: 8.0330e-04 - acc: 0.9998 - val_loss: 0.0643 - val_acc: 0.9857\n",
            "Test loss: 0.0642537839303897\n",
            "Test accuracy: 0.9857\n"
          ],
          "name": "stdout"
        }
      ]
    },
    {
      "metadata": {
        "id": "2pc4EZt2Xqd4",
        "colab_type": "text"
      },
      "cell_type": "markdown",
      "source": [
        "According to https://arxiv.org/pdf/1502.03167.pdf , let's try with a higher learning rate"
      ]
    },
    {
      "metadata": {
        "id": "Bgn1ixb5RQN_",
        "colab_type": "code",
        "colab": {}
      },
      "cell_type": "code",
      "source": [
        "sgd=SGD(lr=0.5, decay=1e-3, momentum=0.9)\n",
        "\n",
        "model.compile(loss='categorical_crossentropy',\n",
        "              optimizer=sgd,\n",
        "              metrics=['accuracy'])"
      ],
      "execution_count": 0,
      "outputs": []
    },
    {
      "metadata": {
        "id": "obkYU1ZqX449",
        "colab_type": "code",
        "colab": {
          "base_uri": "https://localhost:8080/",
          "height": 918
        },
        "outputId": "75eb6d22-8b04-4c80-a4bf-2c62b9b950ba"
      },
      "cell_type": "code",
      "source": [
        "history = model.fit(x_train, y_train,\n",
        "                    batch_size=batch_size,\n",
        "                    epochs=epochs,\n",
        "                    verbose=1,\n",
        "                    validation_data=(x_test, y_test))\n",
        "\n",
        "# Evaluate over test\n",
        "score = model.evaluate(x_test, y_test, verbose=0)\n",
        "\n",
        "\n",
        "print('Test loss:', score[0])\n",
        "print('Test accuracy:', score[1])"
      ],
      "execution_count": 13,
      "outputs": [
        {
          "output_type": "stream",
          "text": [
            "Train on 60000 samples, validate on 10000 samples\n",
            "Epoch 1/25\n",
            "60000/60000 [==============================] - 7s 124us/step - loss: 0.0028 - acc: 0.9992 - val_loss: 0.0843 - val_acc: 0.9855\n",
            "Epoch 2/25\n",
            "60000/60000 [==============================] - 7s 120us/step - loss: 0.0039 - acc: 0.9990 - val_loss: 0.0867 - val_acc: 0.9859\n",
            "Epoch 3/25\n",
            "60000/60000 [==============================] - 7s 123us/step - loss: 0.0040 - acc: 0.9989 - val_loss: 0.0832 - val_acc: 0.9845\n",
            "Epoch 4/25\n",
            "60000/60000 [==============================] - 8s 126us/step - loss: 0.0031 - acc: 0.9992 - val_loss: 0.0734 - val_acc: 0.9862\n",
            "Epoch 5/25\n",
            "60000/60000 [==============================] - 8s 125us/step - loss: 0.0022 - acc: 0.9994 - val_loss: 0.0777 - val_acc: 0.9868\n",
            "Epoch 6/25\n",
            "60000/60000 [==============================] - 7s 124us/step - loss: 0.0031 - acc: 0.9991 - val_loss: 0.0835 - val_acc: 0.9861\n",
            "Epoch 7/25\n",
            "60000/60000 [==============================] - 7s 122us/step - loss: 0.0030 - acc: 0.9991 - val_loss: 0.0814 - val_acc: 0.9842\n",
            "Epoch 8/25\n",
            "60000/60000 [==============================] - 8s 126us/step - loss: 0.0045 - acc: 0.9987 - val_loss: 0.0856 - val_acc: 0.9856\n",
            "Epoch 9/25\n",
            "60000/60000 [==============================] - 8s 128us/step - loss: 0.0033 - acc: 0.9991 - val_loss: 0.0839 - val_acc: 0.9853\n",
            "Epoch 10/25\n",
            "60000/60000 [==============================] - 8s 126us/step - loss: 0.0013 - acc: 0.9997 - val_loss: 0.0866 - val_acc: 0.9851\n",
            "Epoch 11/25\n",
            "60000/60000 [==============================] - 7s 124us/step - loss: 0.0031 - acc: 0.9993 - val_loss: 0.0896 - val_acc: 0.9835\n",
            "Epoch 12/25\n",
            "60000/60000 [==============================] - 7s 124us/step - loss: 0.0026 - acc: 0.9991 - val_loss: 0.0867 - val_acc: 0.9850\n",
            "Epoch 13/25\n",
            "60000/60000 [==============================] - 7s 123us/step - loss: 0.0029 - acc: 0.9992 - val_loss: 0.0834 - val_acc: 0.9851\n",
            "Epoch 14/25\n",
            "60000/60000 [==============================] - 7s 124us/step - loss: 0.0012 - acc: 0.9997 - val_loss: 0.0811 - val_acc: 0.9855\n",
            "Epoch 15/25\n",
            "60000/60000 [==============================] - 8s 126us/step - loss: 0.0018 - acc: 0.9995 - val_loss: 0.0772 - val_acc: 0.9856\n",
            "Epoch 16/25\n",
            "60000/60000 [==============================] - 8s 129us/step - loss: 0.0017 - acc: 0.9995 - val_loss: 0.0799 - val_acc: 0.9856\n",
            "Epoch 17/25\n",
            "60000/60000 [==============================] - 8s 129us/step - loss: 9.6079e-04 - acc: 0.9998 - val_loss: 0.0782 - val_acc: 0.9860\n",
            "Epoch 18/25\n",
            "60000/60000 [==============================] - 8s 128us/step - loss: 0.0024 - acc: 0.9994 - val_loss: 0.0752 - val_acc: 0.9872\n",
            "Epoch 19/25\n",
            "60000/60000 [==============================] - 8s 127us/step - loss: 0.0032 - acc: 0.9990 - val_loss: 0.1051 - val_acc: 0.9824\n",
            "Epoch 20/25\n",
            "60000/60000 [==============================] - 8s 125us/step - loss: 0.0037 - acc: 0.9989 - val_loss: 0.0973 - val_acc: 0.9837\n",
            "Epoch 21/25\n",
            "60000/60000 [==============================] - 8s 128us/step - loss: 0.0037 - acc: 0.9990 - val_loss: 0.0903 - val_acc: 0.9852\n",
            "Epoch 22/25\n",
            "60000/60000 [==============================] - 8s 126us/step - loss: 0.0026 - acc: 0.9993 - val_loss: 0.0857 - val_acc: 0.9860\n",
            "Epoch 23/25\n",
            "60000/60000 [==============================] - 8s 127us/step - loss: 0.0024 - acc: 0.9994 - val_loss: 0.0828 - val_acc: 0.9872\n",
            "Epoch 24/25\n",
            "60000/60000 [==============================] - 8s 129us/step - loss: 0.0023 - acc: 0.9994 - val_loss: 0.0912 - val_acc: 0.9851\n",
            "Epoch 25/25\n",
            "60000/60000 [==============================] - 8s 128us/step - loss: 0.0015 - acc: 0.9996 - val_loss: 0.0877 - val_acc: 0.9859\n",
            "Test loss: 0.08767795992158\n",
            "Test accuracy: 0.9859\n"
          ],
          "name": "stdout"
        }
      ]
    },
    {
      "metadata": {
        "id": "DSBygZUxaX7u",
        "colab_type": "text"
      },
      "cell_type": "markdown",
      "source": [
        "Let's add a new step: Gaussian Noise"
      ]
    },
    {
      "metadata": {
        "id": "rbqReHVtYK4x",
        "colab_type": "code",
        "colab": {}
      },
      "cell_type": "code",
      "source": [
        "from keras.layers import GaussianNoise as GN\n",
        "from keras.layers import Reshape\n",
        "\n",
        "import keras.backend as K"
      ],
      "execution_count": 0,
      "outputs": []
    },
    {
      "metadata": {
        "id": "JOBF79kTZ7yY",
        "colab_type": "code",
        "colab": {
          "base_uri": "https://localhost:8080/",
          "height": 646
        },
        "outputId": "cc372277-8792-4db5-88c5-c906f5090c14"
      },
      "cell_type": "code",
      "source": [
        "# NN with BN + Gaussian Noise\n",
        "model = Sequential()\n",
        "## noise in input \n",
        "model.add(Reshape(target_shape=(784,), input_shape=(784,)))\n",
        "model.add(GN(0.3))\n",
        "\n",
        "model.add(Dense(1024, input_shape=(784,)))\n",
        "model.add(BatchNormalization())\n",
        "model.add(GN(0.3))\n",
        "model.add(Activation('relu'))\n",
        "\n",
        "model.add(Dense(1024))\n",
        "model.add(BatchNormalization())\n",
        "model.add(GN(0.3))\n",
        "model.add(Activation('relu'))\n",
        "\n",
        "model.add(Dense(1024))\n",
        "model.add(BatchNormalization())\n",
        "model.add(GN(0.3))\n",
        "model.add(Activation('relu'))\n",
        "model.add(Dense(num_classes, activation='softmax'))\n",
        "\n",
        "model.summary()"
      ],
      "execution_count": 23,
      "outputs": [
        {
          "output_type": "stream",
          "text": [
            "_________________________________________________________________\n",
            "Layer (type)                 Output Shape              Param #   \n",
            "=================================================================\n",
            "reshape_3 (Reshape)          (None, 784)               0         \n",
            "_________________________________________________________________\n",
            "gaussian_noise_6 (GaussianNo (None, 784)               0         \n",
            "_________________________________________________________________\n",
            "dense_14 (Dense)             (None, 1024)              803840    \n",
            "_________________________________________________________________\n",
            "batch_normalization_10 (Batc (None, 1024)              4096      \n",
            "_________________________________________________________________\n",
            "gaussian_noise_7 (GaussianNo (None, 1024)              0         \n",
            "_________________________________________________________________\n",
            "activation_10 (Activation)   (None, 1024)              0         \n",
            "_________________________________________________________________\n",
            "dense_15 (Dense)             (None, 1024)              1049600   \n",
            "_________________________________________________________________\n",
            "batch_normalization_11 (Batc (None, 1024)              4096      \n",
            "_________________________________________________________________\n",
            "gaussian_noise_8 (GaussianNo (None, 1024)              0         \n",
            "_________________________________________________________________\n",
            "activation_11 (Activation)   (None, 1024)              0         \n",
            "_________________________________________________________________\n",
            "dense_16 (Dense)             (None, 1024)              1049600   \n",
            "_________________________________________________________________\n",
            "batch_normalization_12 (Batc (None, 1024)              4096      \n",
            "_________________________________________________________________\n",
            "gaussian_noise_9 (GaussianNo (None, 1024)              0         \n",
            "_________________________________________________________________\n",
            "activation_12 (Activation)   (None, 1024)              0         \n",
            "_________________________________________________________________\n",
            "dense_17 (Dense)             (None, 10)                10250     \n",
            "=================================================================\n",
            "Total params: 2,925,578\n",
            "Trainable params: 2,919,434\n",
            "Non-trainable params: 6,144\n",
            "_________________________________________________________________\n"
          ],
          "name": "stdout"
        }
      ]
    },
    {
      "metadata": {
        "id": "mhlZzxzbZ_6g",
        "colab_type": "code",
        "colab": {}
      },
      "cell_type": "code",
      "source": [
        "sgd=SGD(lr=0.1, decay=1e-6, momentum=0.9)\n",
        "\n",
        "model.compile(loss='categorical_crossentropy',\n",
        "              optimizer=sgd,\n",
        "              metrics=['accuracy'])"
      ],
      "execution_count": 0,
      "outputs": []
    },
    {
      "metadata": {
        "id": "wG3hV2xvaCM4",
        "colab_type": "code",
        "colab": {
          "base_uri": "https://localhost:8080/",
          "height": 918
        },
        "outputId": "88126e98-698e-4cb3-903b-ac077b691a63"
      },
      "cell_type": "code",
      "source": [
        "history = model.fit(x_train, y_train,\n",
        "                    batch_size=batch_size,\n",
        "                    epochs=epochs,\n",
        "                    verbose=1,\n",
        "                    validation_data=(x_test, y_test))\n",
        "\n",
        "score = model.evaluate(x_test, y_test, verbose=0)\n",
        "\n",
        "print('Test loss:', score[0])\n",
        "print('Test accuracy:', score[1])"
      ],
      "execution_count": 25,
      "outputs": [
        {
          "output_type": "stream",
          "text": [
            "Train on 60000 samples, validate on 10000 samples\n",
            "Epoch 1/25\n",
            "60000/60000 [==============================] - 9s 157us/step - loss: 0.3743 - acc: 0.8972 - val_loss: 0.1237 - val_acc: 0.9628\n",
            "Epoch 2/25\n",
            "60000/60000 [==============================] - 8s 136us/step - loss: 0.1857 - acc: 0.9441 - val_loss: 0.0861 - val_acc: 0.9738\n",
            "Epoch 3/25\n",
            "60000/60000 [==============================] - 8s 135us/step - loss: 0.1484 - acc: 0.9552 - val_loss: 0.0761 - val_acc: 0.9765\n",
            "Epoch 4/25\n",
            "60000/60000 [==============================] - 8s 133us/step - loss: 0.1201 - acc: 0.9627 - val_loss: 0.0638 - val_acc: 0.9798\n",
            "Epoch 5/25\n",
            "60000/60000 [==============================] - 8s 132us/step - loss: 0.1036 - acc: 0.9682 - val_loss: 0.0639 - val_acc: 0.9818\n",
            "Epoch 6/25\n",
            "60000/60000 [==============================] - 8s 139us/step - loss: 0.0963 - acc: 0.9696 - val_loss: 0.0631 - val_acc: 0.9814\n",
            "Epoch 7/25\n",
            "60000/60000 [==============================] - 8s 141us/step - loss: 0.0895 - acc: 0.9723 - val_loss: 0.0564 - val_acc: 0.9821\n",
            "Epoch 8/25\n",
            "60000/60000 [==============================] - 9s 142us/step - loss: 0.0827 - acc: 0.9732 - val_loss: 0.0567 - val_acc: 0.9836\n",
            "Epoch 9/25\n",
            "60000/60000 [==============================] - 9s 142us/step - loss: 0.0808 - acc: 0.9747 - val_loss: 0.0496 - val_acc: 0.9848\n",
            "Epoch 10/25\n",
            "60000/60000 [==============================] - 9s 143us/step - loss: 0.0730 - acc: 0.9768 - val_loss: 0.0522 - val_acc: 0.9834\n",
            "Epoch 11/25\n",
            "60000/60000 [==============================] - 9s 143us/step - loss: 0.0678 - acc: 0.9783 - val_loss: 0.0480 - val_acc: 0.9852\n",
            "Epoch 12/25\n",
            "60000/60000 [==============================] - 9s 143us/step - loss: 0.0628 - acc: 0.9797 - val_loss: 0.0505 - val_acc: 0.9842\n",
            "Epoch 13/25\n",
            "60000/60000 [==============================] - 9s 144us/step - loss: 0.0592 - acc: 0.9807 - val_loss: 0.0494 - val_acc: 0.9855\n",
            "Epoch 14/25\n",
            "60000/60000 [==============================] - 8s 142us/step - loss: 0.0575 - acc: 0.9813 - val_loss: 0.0444 - val_acc: 0.9863\n",
            "Epoch 15/25\n",
            "60000/60000 [==============================] - 8s 140us/step - loss: 0.0556 - acc: 0.9814 - val_loss: 0.0492 - val_acc: 0.9857\n",
            "Epoch 16/25\n",
            "60000/60000 [==============================] - 8s 136us/step - loss: 0.0531 - acc: 0.9822 - val_loss: 0.0486 - val_acc: 0.9856\n",
            "Epoch 17/25\n",
            "60000/60000 [==============================] - 8s 135us/step - loss: 0.0511 - acc: 0.9832 - val_loss: 0.0459 - val_acc: 0.9858\n",
            "Epoch 18/25\n",
            "60000/60000 [==============================] - 8s 130us/step - loss: 0.0507 - acc: 0.9835 - val_loss: 0.0469 - val_acc: 0.9856\n",
            "Epoch 19/25\n",
            "60000/60000 [==============================] - 8s 132us/step - loss: 0.0443 - acc: 0.9844 - val_loss: 0.0441 - val_acc: 0.9872\n",
            "Epoch 20/25\n",
            "60000/60000 [==============================] - 8s 131us/step - loss: 0.0448 - acc: 0.9849 - val_loss: 0.0493 - val_acc: 0.9870\n",
            "Epoch 21/25\n",
            "60000/60000 [==============================] - 8s 127us/step - loss: 0.0424 - acc: 0.9862 - val_loss: 0.0435 - val_acc: 0.9873\n",
            "Epoch 22/25\n",
            "60000/60000 [==============================] - 8s 129us/step - loss: 0.0439 - acc: 0.9861 - val_loss: 0.0420 - val_acc: 0.9884\n",
            "Epoch 23/25\n",
            "60000/60000 [==============================] - 8s 129us/step - loss: 0.0395 - acc: 0.9867 - val_loss: 0.0433 - val_acc: 0.9881\n",
            "Epoch 24/25\n",
            "60000/60000 [==============================] - 8s 130us/step - loss: 0.0385 - acc: 0.9871 - val_loss: 0.0486 - val_acc: 0.9869\n",
            "Epoch 25/25\n",
            "60000/60000 [==============================] - 8s 130us/step - loss: 0.0382 - acc: 0.9872 - val_loss: 0.0481 - val_acc: 0.9859\n",
            "Test loss: 0.04813462431706412\n",
            "Test accuracy: 0.9859\n"
          ],
          "name": "stdout"
        }
      ]
    },
    {
      "metadata": {
        "id": "b4U62maLdBfG",
        "colab_type": "text"
      },
      "cell_type": "markdown",
      "source": [
        "OK, so now, here it comes the Learning Rate Annealing implementation. We use the same model than the previous test with Gaussian Noise"
      ]
    },
    {
      "metadata": {
        "id": "-r1gDTSJbgDL",
        "colab_type": "code",
        "colab": {}
      },
      "cell_type": "code",
      "source": [
        "from keras.callbacks import LearningRateScheduler as LRS\n",
        "epochs = 75"
      ],
      "execution_count": 0,
      "outputs": []
    },
    {
      "metadata": {
        "id": "O6McuJS7dT0t",
        "colab_type": "code",
        "colab": {}
      },
      "cell_type": "code",
      "source": [
        "sgd=SGD(lr=0.1, decay=0.0, momentum=0.0)"
      ],
      "execution_count": 0,
      "outputs": []
    },
    {
      "metadata": {
        "id": "I7Ozzj5fdb9N",
        "colab_type": "code",
        "colab": {}
      },
      "cell_type": "code",
      "source": [
        "def scheduler(epoch):\n",
        "  if epoch < 5:\n",
        "    return .5\n",
        "  elif epoch < 25:\n",
        "    return .1\n",
        "  elif epoch < 50:\n",
        "    return 0.01\n",
        "  else:\n",
        "    return 0.001\n",
        "\n",
        "set_lr = LRS(scheduler)"
      ],
      "execution_count": 0,
      "outputs": []
    },
    {
      "metadata": {
        "id": "6p6L1hoedwql",
        "colab_type": "code",
        "colab": {}
      },
      "cell_type": "code",
      "source": [
        "model.compile(loss='categorical_crossentropy',\n",
        "              optimizer=sgd,\n",
        "              metrics=['accuracy'])"
      ],
      "execution_count": 0,
      "outputs": []
    },
    {
      "metadata": {
        "id": "i9txp28Qd0OF",
        "colab_type": "code",
        "colab": {
          "base_uri": "https://localhost:8080/",
          "height": 918
        },
        "outputId": "e00c8ae6-2d67-4dba-8c30-e625a07b6c09"
      },
      "cell_type": "code",
      "source": [
        "## Training, note the callbacks list\n",
        "history = model.fit(x_train, y_train,\n",
        "                    batch_size=batch_size,\n",
        "                    epochs=epochs,\n",
        "                    verbose=1,\n",
        "                    validation_data=(x_test, y_test),\n",
        "                    callbacks=[set_lr])\n",
        "\n",
        "## Test\n",
        "score = model.evaluate(x_test, y_test, verbose=0)\n",
        "\n",
        "print('Test loss:', score[0])\n",
        "print('Test accuracy:', score[1])"
      ],
      "execution_count": 31,
      "outputs": [
        {
          "output_type": "stream",
          "text": [
            "Train on 60000 samples, validate on 10000 samples\n",
            "Epoch 1/25\n",
            "60000/60000 [==============================] - 8s 130us/step - loss: 0.0221 - acc: 0.9925 - val_loss: 0.0411 - val_acc: 0.9891\n",
            "Epoch 2/25\n",
            "60000/60000 [==============================] - 8s 129us/step - loss: 0.0232 - acc: 0.9917 - val_loss: 0.0411 - val_acc: 0.9899\n",
            "Epoch 3/25\n",
            "60000/60000 [==============================] - 8s 126us/step - loss: 0.0203 - acc: 0.9931 - val_loss: 0.0403 - val_acc: 0.9893\n",
            "Epoch 4/25\n",
            "60000/60000 [==============================] - 8s 127us/step - loss: 0.0205 - acc: 0.9927 - val_loss: 0.0410 - val_acc: 0.9890\n",
            "Epoch 5/25\n",
            "60000/60000 [==============================] - 8s 125us/step - loss: 0.0188 - acc: 0.9939 - val_loss: 0.0421 - val_acc: 0.9894\n",
            "Epoch 6/25\n",
            "60000/60000 [==============================] - 7s 124us/step - loss: 0.0195 - acc: 0.9934 - val_loss: 0.0403 - val_acc: 0.9895\n",
            "Epoch 7/25\n",
            "60000/60000 [==============================] - 7s 124us/step - loss: 0.0191 - acc: 0.9932 - val_loss: 0.0401 - val_acc: 0.9901\n",
            "Epoch 8/25\n",
            "60000/60000 [==============================] - 7s 124us/step - loss: 0.0189 - acc: 0.9935 - val_loss: 0.0408 - val_acc: 0.9900\n",
            "Epoch 9/25\n",
            "60000/60000 [==============================] - 7s 122us/step - loss: 0.0194 - acc: 0.9935 - val_loss: 0.0385 - val_acc: 0.9905\n",
            "Epoch 10/25\n",
            "60000/60000 [==============================] - 8s 130us/step - loss: 0.0170 - acc: 0.9938 - val_loss: 0.0393 - val_acc: 0.9907\n",
            "Epoch 11/25\n",
            "60000/60000 [==============================] - 8s 135us/step - loss: 0.0191 - acc: 0.9934 - val_loss: 0.0402 - val_acc: 0.9902\n",
            "Epoch 12/25\n",
            "60000/60000 [==============================] - 8s 131us/step - loss: 0.0195 - acc: 0.9932 - val_loss: 0.0400 - val_acc: 0.9897\n",
            "Epoch 13/25\n",
            "60000/60000 [==============================] - 8s 127us/step - loss: 0.0197 - acc: 0.9933 - val_loss: 0.0381 - val_acc: 0.9903\n",
            "Epoch 14/25\n",
            "60000/60000 [==============================] - 8s 133us/step - loss: 0.0175 - acc: 0.9940 - val_loss: 0.0400 - val_acc: 0.9893\n",
            "Epoch 15/25\n",
            "60000/60000 [==============================] - 8s 133us/step - loss: 0.0168 - acc: 0.9941 - val_loss: 0.0376 - val_acc: 0.9911\n",
            "Epoch 16/25\n",
            "60000/60000 [==============================] - 8s 133us/step - loss: 0.0147 - acc: 0.9954 - val_loss: 0.0363 - val_acc: 0.9903\n",
            "Epoch 17/25\n",
            "60000/60000 [==============================] - 8s 132us/step - loss: 0.0148 - acc: 0.9949 - val_loss: 0.0374 - val_acc: 0.9903\n",
            "Epoch 18/25\n",
            "60000/60000 [==============================] - 8s 136us/step - loss: 0.0141 - acc: 0.9952 - val_loss: 0.0364 - val_acc: 0.9906\n",
            "Epoch 19/25\n",
            "60000/60000 [==============================] - 8s 134us/step - loss: 0.0140 - acc: 0.9953 - val_loss: 0.0365 - val_acc: 0.9902\n",
            "Epoch 20/25\n",
            "60000/60000 [==============================] - 8s 129us/step - loss: 0.0138 - acc: 0.9955 - val_loss: 0.0370 - val_acc: 0.9904\n",
            "Epoch 21/25\n",
            "60000/60000 [==============================] - 8s 126us/step - loss: 0.0138 - acc: 0.9953 - val_loss: 0.0364 - val_acc: 0.9905\n",
            "Epoch 22/25\n",
            "60000/60000 [==============================] - 8s 137us/step - loss: 0.0129 - acc: 0.9954 - val_loss: 0.0371 - val_acc: 0.9907\n",
            "Epoch 23/25\n",
            "60000/60000 [==============================] - 8s 138us/step - loss: 0.0129 - acc: 0.9955 - val_loss: 0.0362 - val_acc: 0.9904\n",
            "Epoch 24/25\n",
            "60000/60000 [==============================] - 8s 139us/step - loss: 0.0134 - acc: 0.9954 - val_loss: 0.0369 - val_acc: 0.9904\n",
            "Epoch 25/25\n",
            "60000/60000 [==============================] - 8s 136us/step - loss: 0.0122 - acc: 0.9957 - val_loss: 0.0369 - val_acc: 0.9903\n",
            "Test loss: 0.03693314061931828\n",
            "Test accuracy: 0.9903\n"
          ],
          "name": "stdout"
        }
      ]
    },
    {
      "metadata": {
        "id": "tKvLHDFKd3eu",
        "colab_type": "code",
        "colab": {}
      },
      "cell_type": "code",
      "source": [
        ""
      ],
      "execution_count": 0,
      "outputs": []
    }
  ]
}